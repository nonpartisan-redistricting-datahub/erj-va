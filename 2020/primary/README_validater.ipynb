{
 "cells": [
  {
   "cell_type": "code",
   "execution_count": 1,
   "id": "ab14b58d",
   "metadata": {},
   "outputs": [],
   "source": [
    "import geopandas as gp\n",
    "import pandas as pd\n",
    "import os\n",
    "import re\n",
    "\n",
    "#THESE SETTINGS ESSENTIAL TO HAVE THE FIELDS TABLE SHOW UP CORRECTLY in the readme\n",
    "pd.set_option('display.max_rows', None)\n",
    "pd.set_option('display.max_columns', None)\n",
    "pd.set_option('display.width', None)"
   ]
  },
  {
   "cell_type": "code",
   "execution_count": 2,
   "id": "cbee9827",
   "metadata": {},
   "outputs": [],
   "source": [
    "level_race_name_dict = {\"CONG_DIST\":\"CON\",\n",
    "    \"SLDL_DIST\":\"SL\",\n",
    "    \"SLDU_DIST\":\"SU\",\n",
    "    \"SCONG_DIST\":\"SCON\"}"
   ]
  },
  {
   "cell_type": "code",
   "execution_count": 3,
   "id": "d66658a9",
   "metadata": {},
   "outputs": [],
   "source": [
    "'''Following Docstring Convention: https://www.python.org/dev/peps/pep-0257/'''\n",
    "\n",
    "import pandas as pd\n",
    "import os\n",
    "#THESE SETTINGS ESSENTIAL TO HAVE THE FIELDS TABLE SHOW UP CORRECTLY in the readme\n",
    "pd.set_option('display.max_rows', None)\n",
    "pd.set_option('display.max_columns', None)\n",
    "pd.set_option('display.width', None)\n",
    "\n",
    "\n",
    "def create_fields_table(race_field_header_0, fields_dict_0, \n",
    "                        add_race_field_header_1 = '', fields_dict_1 = {}, \n",
    "                        add_race_field_header_2 = '', fields_dict_2 = {}, \n",
    "                        add_race_field_header_3 = '', fields_dict_3 = {}):\n",
    "    '''Purpose: Create fields table used in readme based on field dictionary created separately\n",
    "    Arguments:\n",
    "        race_field_header_0: include asterisks \"***text***\" and label first set of fields\n",
    "        fields_dict_0: the default dictionary for the primary file (statewide)\n",
    "        add_race_field_header_1: include asterisks to draw attention to section - ex: \"***additional_race_file_name_fields***\"\n",
    "        fields_dict_1: additional fields to go under add_race_field_header_1 header\n",
    "        add_race_field_header_2 and _3: same use as add_race_field_header_1 - include as needed\n",
    "        fields_dict_2 and _3: same use as fields_dict_1 - include as needed associated with corresponding add_race_field_header section\n",
    "    '''\n",
    "    fields_table_data = {'Field Name': ['',race_field_header_0]  + list(fields_dict_0.keys()) +\n",
    "                         ['',add_race_field_header_1] + list(fields_dict_1.keys()) +\n",
    "                         ['',add_race_field_header_2] + list(fields_dict_2.keys()) +\n",
    "                         ['',add_race_field_header_3] + list(fields_dict_3.keys()),\n",
    "                         'Description': ['',''] + list(fields_dict_0.values()) + \n",
    "                         ['',''] + list(fields_dict_1.values()) + \n",
    "                         ['',''] + list(fields_dict_2.values()) +\n",
    "                         ['',''] + list(fields_dict_3.values())}\n",
    "    fields_table = pd.DataFrame(fields_table_data)\n",
    "    return fields_table\n",
    "\n",
    "def erj_readme_template(stateabrv, state, year, election_type, additional_races, retrieval_date, vest_file_link, \n",
    "                        raw_data_source, state_erj_repo, office_codes, \n",
    "                        race_field_header_0, fields_dict_0, add_race_field_header_1 = '', fields_dict_1 = {}, add_race_field_header_2 = '', fields_dict_2 = {}, \n",
    "                        add_race_field_header_3 = '', fields_dict_3 = {},\n",
    "                       additional_notes=' '):\n",
    "    '''Purpose: standardize language in ERJ file README.txt\n",
    "    Arguemts:\n",
    "        fields_dict = used to create the fields table for the non-standardized/race fields fields. \n",
    "                    Key is the field/value is the field description\n",
    "        stateabrv = two character state abbreviation capitalized, \n",
    "        state = state name, first letter capitalized, \n",
    "        year = election year (XXXX), \n",
    "        election_type = general, primary, special or runoff, \n",
    "        additional_races = the races that RDH added to the original vest file (not in VEST's og file), \n",
    "        retrieval_date = date RDH retrieved VEST file, \n",
    "        vest_file_link = link to dataverse page for VEST's precinct boundary and election results file, \n",
    "        raw_data_source = site description and link, \n",
    "        state_erj_repo = link to erj github repository for given state\n",
    "        office_codes = codes used broken off of field names for easy viewing. \n",
    "            For SU/SL/CON, include ##, so SU## for office code\n",
    "        race_field_header_0: include asterisks \"***text***\" and label first set of fields\n",
    "        fields_dict_0: the default dictionary for the primary file (statewide)\n",
    "        add_race_field_header_1: include asterisks to draw attention to section - ex: \"***additional_race_file_name_fields***\"\n",
    "        fields_dict_1: additional fields to go under add_race_field_header_1 header\n",
    "        add_race_field_header_2 and _3: same use as add_race_field_header_1 - include as needed\n",
    "        fields_dict_2 and _3: same use as fields_dict_1 - include as needed associated with corresponding add_race_field_header section\n",
    "        additional_notes = default set to empty, but fill in with string where applicable.\n",
    "    '''\n",
    "#First section of README\n",
    "    readme_p1 = '''{year} {stateabrv} {election_type} Precinct Boundary and Election Results\n",
    "## RDH Date Retrieval\n",
    "{retrieval_date}\n",
    "## Sources\n",
    "The RDH retrieved the VEST {year} {election_type} precinct boundary and election results shapefile from [VEST's Harvard Dataverse]({vest_file_link})\n",
    "The RDH retrieved raw {year} {election_type} election results from {raw_data_source}\n",
    "## Notes on Field Names (adapted from VEST):\n",
    "Columns reporting votes generally follow the pattern: \n",
    "The first character is G for a general election, P for a primary, S for a special, and R for a runoff.\n",
    "Characters 2 and 3 are the year of the election.*\n",
    "Characters 4-6 represent the office type (see list below).\n",
    "Character 7 represents the party of the candidate.\n",
    "Characters 8-10 are the first three letters of the candidate's last name.\n",
    "One example is:\n",
    "G16PREDCLI\n",
    "To fit within the GIS 10 character limit for field names, the naming convention is slightly different for the State Legislature and \n",
    "US House of Representatives. All fields are listed below with definitions.\n",
    "Office Codes Used:\n",
    "{office_codes}\n",
    "## Fields:\n",
    "'''.format(stateabrv= stateabrv, state= state, year=year, election_type=election_type, additional_races=additional_races,retrieval_date=retrieval_date, vest_file_link=vest_file_link, raw_data_source=raw_data_source, state_erj_repo=state_erj_repo, office_codes=office_codes)\n",
    "\n",
    "#Second section of README\n",
    "    fields_table = create_fields_table(race_field_header_0, fields_dict_0, add_race_field_header_1, fields_dict_1, add_race_field_header_2, fields_dict_2, \n",
    "                        add_race_field_header_3, fields_dict_3)\n",
    "    readme_p2 = fields_table.to_string(formatters={'Description':'{{:<{}s}}'.format(fields_table['Description'].str.len().max()).format, 'Field Name':'{{:<{}s}}'.format(fields_table['Field Name'].str.len().max()).format}, index=False)\n",
    "\n",
    "#Third section of README\n",
    "    readme_p3 = '''\n",
    "## Processing Steps\n",
    "    \n",
    "The RDH joined additional election results to VEST's existing precinct shapefile, including {additional_races} using Python.\n",
    "For more information on the processing completed, visit our [Github repository]({state_erj_repo}) for Election Result Joins (ERJ) for {state}.\n",
    "Where possible, the RDH validated the election results we processed against VEST's election results. For additional races the RDH manually checked state totals. For more information on this comparison, please see our processing on Github ({state_erj_repo}).\n",
    "## Additional Notes\n",
    "{additional_notes}\n",
    "Please contact info@redistrictingdatahub.org for more information.\n",
    "'''.format(stateabrv=stateabrv, state=state, year=year, election_type=election_type, additional_races=additional_races, state_erj_repo=state_erj_repo, office_codes=office_codes, additional_notes = additional_notes)\n",
    "    \n",
    "    full_readme = str(readme_p1)+str(readme_p2)+str(readme_p3)\n",
    "    return full_readme\n",
    "\n",
    "def export_readme(readme_name, state, election_type, full_readme_text):\n",
    "    \n",
    "    '''Purpose: Turn README string into a txt file in the ERJ folder\n",
    "    Argument note:\n",
    "        readme_name must include file path to readme within erj folder\n",
    "        ex: \n",
    "        readme_name = './az_gen_20_prec/README.txt'\n",
    "    '''\n",
    "    with open(readme_name, 'x') as tf:\n",
    "        tf.write(full_readme_text)\n",
    "    print(state, election_type, \" readme moved to folder\")"
   ]
  },
  {
   "cell_type": "code",
   "execution_count": 23,
   "id": "deae8c38",
   "metadata": {},
   "outputs": [],
   "source": [
    "stateabrv = \"VA\"\n",
    "state = \"Virginia\"\n",
    "year = \"2020\"\n",
    "election_type = \"Primary\"\n",
    "additional_races = \"President, U.S. Senator, U.S. Congressional\"\n",
    "retrieval_date = \"08/22/2022\"\n",
    "upload_date = \"12/06/2022\" \n",
    "vest_file_link = \"https://dataverse.harvard.edu/file.xhtml?fileId=6174181&version=40.0\"\n",
    "raw_data_source = \"Election results from Virginia's Department of Elections (https://apps.elections.virginia.gov/SBE_CSV/ELECTIONS/ELECTIONRESULTS/2020/) and precinct shapefiles from VEST's VA 2020 file.\\n\" \n",
    "state_erj_repo = \"https://github.com/nonpartisan-redistricting-datahub/erj-va\"\n",
    "                \n",
    "additional_notes = '''\n",
    "~all files~\n",
    "\n",
    "'''\n"
   ]
  },
  {
   "cell_type": "code",
   "execution_count": 24,
   "id": "136e3115",
   "metadata": {},
   "outputs": [],
   "source": [
    "va_cand_dict = {'WRITE IN VOTES for President':'P20PREDWRI', \n",
    "                'AMY J. KLOBUCHAR for President':'P20PREDKLO',\n",
    "                'ANDREW YANG for President':'P20PREDYAN', \n",
    "                'BERNARD SANDERS for President':'P20PREDSAN',\n",
    "                'CORY A BOOKER for President':'P20PREDBOO', \n",
    "                'DEVAL PATRICK for President':'P20PREDPAT',\n",
    "                'ELIZABETH WARREN for President':'P20PREDWAR',\n",
    "                'JOSEPH ROBINETTE BIDEN for President':'P20PREDBID',\n",
    "                'JULIÁN CASTRO for President':'P20PREDCAS',\n",
    "                'MARIANNE D WILLIAMSON for President':'P20PREDWIL',\n",
    "                'MICHAEL F. BENNET for President':'P20PREDBEN',\n",
    "                'MICHAEL R BLOOMBERG for President':'P20PREDBLO',\n",
    "                'PETER P. M. BUTTIGIEG for President':'P20PREDBUT',\n",
    "                'THOMAS STEYER for President':'P20PREDSTE', \n",
    "                'TULSI GABBARD for President':'P20PREDGAB',\n",
    "                'WRITE IN VOTES for Member House of Representatives2':'PCON02RWRI',\n",
    "                'WRITE IN VOTES for Member United States Senate':'P20USSRWRI',\n",
    "                'ALISSA ANNE BALDWIN for Member United States Senate':'P20USSRBAL',\n",
    "                'BENITO LOYOLA for Member House of Representatives2':'PCON02RLOY',\n",
    "                'DANIEL MAC ARTHUR GADE for Member United States Senate':'P20USSRGAD',\n",
    "                'JAROME BELL for Member House of Representatives2':'PCON02RBEL',\n",
    "                'SCOTT WILLIAM TAYLOR for Member House of Representatives2':'PCON02RTAY',\n",
    "                'THOMAS A SPECIALE for Member United States Senate':'P20USSRSPE',\n",
    "                'WRITE IN VOTES for Member House of Representatives3':'PCON03RWRI',\n",
    "                'GEORGE MICHAEL YACUS for Member House of Representatives3':'PCON03RYAC',\n",
    "                'JOHN HARRISON MADISON DOWNS for Member House of Representatives3':'PCON03RDOW',\n",
    "                'JOHN WILLIAM COLLICK for Member House of Representatives3':'PCON03RCOL',\n",
    "                'WRITE IN VOTES for Member House of Representatives5':'PCON05DWRI',\n",
    "                'BRYANT CAMERON WEBB for Member House of Representatives5':'PCON05DWEB',\n",
    "                'CLAIRE CARMEN RUSSO for Member House of Representatives5':'PCON05DRUS',\n",
    "                'JOHN DANIEL LESINSKI for Member House of Representatives5':'PCON05DLES',\n",
    "                'ROGER DEAN HUFFSTETLER for Member House of Representatives5':'PCON05DHUF',\n",
    "                'WRITE IN VOTES for Member House of Representatives1':'PCON01DWRI',\n",
    "                'LAVANGELENE AEREKA WILLIAMS for Member House of Representatives1':'PCON01DWIL',\n",
    "                'QASIM RASHID for Member House of Representatives1':'PCON01DRAS',\n",
    "                'WRITE IN VOTES for Member House of Representatives4':'PCON04DWRI',\n",
    "                'ASTON DONALD MCEACHIN for Member House of Representatives4':'PCON04DMCE',\n",
    "                'RONGERLIS CAZEL LEVINE for Member House of Representatives4':'PCON04DLEV',\n",
    "                'WRITE IN VOTES for Member House of Representatives11':'PCON11DWRI',\n",
    "                'GERALD EDWARD CONNOLLY for Member House of Representatives11':'PCON11DCON',\n",
    "                'ZAINAB MASOOMA MOHSINI for Member House of Representatives11':'PCON11DMOH'}"
   ]
  },
  {
   "cell_type": "code",
   "execution_count": 25,
   "id": "0a7a25c3",
   "metadata": {},
   "outputs": [],
   "source": [
    "holder = list(va_cand_dict.values())\n",
    "holder.sort()"
   ]
  },
  {
   "cell_type": "code",
   "execution_count": 26,
   "id": "7d72d6dc",
   "metadata": {},
   "outputs": [],
   "source": [
    "races_list = ['G20PREDBID', 'G20PRELJOR', 'G20PREOWRI', 'G20PRERTRU', 'G20USSDWAR', 'G20USSOWRI', 'G20USSRGAD', 'GCON01DRAS', 'GCON01OWRI', 'GCON01RWIT', 'GCON02DLUR', 'GCON02IFOS', 'GCON02OWRI', 'GCON02RTAY', 'GCON03DSCO', 'GCON03OWRI', 'GCON03RCOL', 'GCON04DMCE', 'GCON04OWRI', 'GCON04RBEN', 'GCON05DWEB', 'GCON05OWRI', 'GCON05RGOO', 'GCON06DBET', 'GCON06OWRI', 'GCON06RCLI', 'GCON07DSPA', 'GCON07OWRI', 'GCON07RFRE', 'GCON08DBEY', 'GCON08OWRI', 'GCON08RJOR', 'GCON09OWRI', 'GCON09RGRI', 'GCON10DWEX', 'GCON10OWRI', 'GCON10RAND', 'GCON11DCON', 'GCON11OWRI', 'GCON11RANA']"
   ]
  },
  {
   "cell_type": "code",
   "execution_count": 27,
   "id": "57eca643",
   "metadata": {},
   "outputs": [],
   "source": [
    "cleaner_cand_dict = {va_cand_dict[i]:i for i in va_cand_dict.keys()}"
   ]
  },
  {
   "cell_type": "code",
   "execution_count": 28,
   "id": "c4550ef4",
   "metadata": {},
   "outputs": [],
   "source": [
    "sorted_cand_dict = {i:cleaner_cand_dict[i].split(\" for\")[0].title() for i in holder}"
   ]
  },
  {
   "cell_type": "code",
   "execution_count": 29,
   "id": "a4b72c57",
   "metadata": {},
   "outputs": [
    {
     "data": {
      "text/plain": [
       "{'P20PREDBEN': 'Michael F. Bennet',\n",
       " 'P20PREDBID': 'Joseph Robinette Biden',\n",
       " 'P20PREDBLO': 'Michael R Bloomberg',\n",
       " 'P20PREDBOO': 'Cory A Booker',\n",
       " 'P20PREDBUT': 'Peter P. M. Buttigieg',\n",
       " 'P20PREDCAS': 'Julián Castro',\n",
       " 'P20PREDGAB': 'Tulsi Gabbard',\n",
       " 'P20PREDKLO': 'Amy J. Klobuchar',\n",
       " 'P20PREDPAT': 'Deval Patrick',\n",
       " 'P20PREDSAN': 'Bernard Sanders',\n",
       " 'P20PREDSTE': 'Thomas Steyer',\n",
       " 'P20PREDWAR': 'Elizabeth Warren',\n",
       " 'P20PREDWIL': 'Marianne D Williamson',\n",
       " 'P20PREDWRI': 'Write In Votes',\n",
       " 'P20PREDYAN': 'Andrew Yang',\n",
       " 'P20USSRBAL': 'Alissa Anne Baldwin',\n",
       " 'P20USSRGAD': 'Daniel Mac Arthur Gade',\n",
       " 'P20USSRSPE': 'Thomas A Speciale',\n",
       " 'P20USSRWRI': 'Write In Votes',\n",
       " 'PCON01DRAS': 'Qasim Rashid',\n",
       " 'PCON01DWIL': 'Lavangelene Aereka Williams',\n",
       " 'PCON01DWRI': 'Write In Votes',\n",
       " 'PCON02RBEL': 'Jarome Bell',\n",
       " 'PCON02RLOY': 'Benito Loyola',\n",
       " 'PCON02RTAY': 'Scott William Taylor',\n",
       " 'PCON02RWRI': 'Write In Votes',\n",
       " 'PCON03RCOL': 'John William Collick',\n",
       " 'PCON03RDOW': 'John Harrison Madison Downs',\n",
       " 'PCON03RWRI': 'Write In Votes',\n",
       " 'PCON03RYAC': 'George Michael Yacus',\n",
       " 'PCON04DLEV': 'Rongerlis Cazel Levine',\n",
       " 'PCON04DMCE': 'Aston Donald Mceachin',\n",
       " 'PCON04DWRI': 'Write In Votes',\n",
       " 'PCON05DHUF': 'Roger Dean Huffstetler',\n",
       " 'PCON05DLES': 'John Daniel Lesinski',\n",
       " 'PCON05DRUS': 'Claire Carmen Russo',\n",
       " 'PCON05DWEB': 'Bryant Cameron Webb',\n",
       " 'PCON05DWRI': 'Write In Votes',\n",
       " 'PCON11DCON': 'Gerald Edward Connolly',\n",
       " 'PCON11DMOH': 'Zainab Masooma Mohsini',\n",
       " 'PCON11DWRI': 'Write In Votes'}"
      ]
     },
     "execution_count": 29,
     "metadata": {},
     "output_type": "execute_result"
    }
   ],
   "source": [
    "sorted_cand_dict"
   ]
  },
  {
   "cell_type": "code",
   "execution_count": 30,
   "id": "62fff6f5",
   "metadata": {},
   "outputs": [],
   "source": [
    "import os\n",
    "\n",
    "fields_dict_0 = sorted_cand_dict\n",
    "race_field_header_0 = \"***va_prim_20_st_cong_prec.zip***\""
   ]
  },
  {
   "cell_type": "code",
   "execution_count": 31,
   "id": "9fc6b4b3",
   "metadata": {},
   "outputs": [],
   "source": [
    "fields_dict_0[\"UNIQUE_ID\"] = \"Unique Identifier\"\n",
    "fields_dict_0['COUNTYFP'] = \"County FIP\"\n",
    "fields_dict_0['LOCALITY'] = \"State FIP\"\n",
    "fields_dict_0[\"VTDST\"] = \"VTD Code\"\n",
    "fields_dict_0['PRECINCT'] = \"Precinct Name\"\n",
    "fields_dict_0['CONG_DIST'] = \"Congressional District\""
   ]
  },
  {
   "cell_type": "code",
   "execution_count": 32,
   "id": "a80567ec",
   "metadata": {},
   "outputs": [],
   "source": [
    "fields_dict = {}\n",
    "fields_dict[\"UNIQUE_ID\"] = \"Unique Identifier\"\n",
    "fields_dict['COUNTYFP'] = \"County FIP\"\n",
    "fields_dict['STATEFP'] = \"State FIP\"\n",
    "fields_dict[\"VTDST\"] = \"VTD Code\"\n",
    "fields_dict[\"NAME\"] = \"VTD Name\"\n",
    "fields_dict[\"COUNTY\"] = \"County Name\"\n",
    "fields_dict[\"PREC_NAME\"] = \"Precinct Name\"\n",
    "\n",
    "fields_dict[\"CONG_DIST\"] = \"U.S. Congressional District\""
   ]
  },
  {
   "cell_type": "code",
   "execution_count": 33,
   "id": "45f8efd1",
   "metadata": {},
   "outputs": [],
   "source": [
    "office_dict = {}\n",
    "\n",
    "\n",
    "office_dict['PRE'] = 'President'\n",
    "office_dict[\"USS\"] = 'U.S. Senator'\n",
    "office_dict[\"CONXX\"] = 'U.S. Congress'\n",
    "\n",
    "\n"
   ]
  },
  {
   "cell_type": "code",
   "execution_count": 34,
   "id": "308281e1",
   "metadata": {},
   "outputs": [],
   "source": [
    "office_codes = office_dict"
   ]
  },
  {
   "cell_type": "code",
   "execution_count": 35,
   "id": "b4faa9e9",
   "metadata": {},
   "outputs": [],
   "source": [
    "full_readme = erj_readme_template(fields_dict, stateabrv, state, year, election_type, additional_races, retrieval_date, upload_date, vest_file_link, \n",
    "                        raw_data_source, state_erj_repo, office_codes, additional_notes)"
   ]
  },
  {
   "cell_type": "code",
   "execution_count": 36,
   "id": "6903b64e",
   "metadata": {},
   "outputs": [],
   "source": [
    "full_readme = erj_readme_template(stateabrv, state, year, election_type, additional_races, retrieval_date, vest_file_link, \n",
    "                        raw_data_source, state_erj_repo,\n",
    "                        office_codes, \n",
    "                        race_field_header_0, fields_dict_0,\n",
    "                       additional_notes=' ')"
   ]
  },
  {
   "cell_type": "code",
   "execution_count": 39,
   "id": "c62b736e",
   "metadata": {},
   "outputs": [
    {
     "ename": "FileExistsError",
     "evalue": "[Errno 17] File exists: './va_prim_20_prec/README.txt'",
     "output_type": "error",
     "traceback": [
      "\u001b[0;31m---------------------------------------------------------------------------\u001b[0m",
      "\u001b[0;31mFileExistsError\u001b[0m                           Traceback (most recent call last)",
      "Cell \u001b[0;32mIn [39], line 1\u001b[0m\n\u001b[0;32m----> 1\u001b[0m \u001b[43mexport_readme\u001b[49m\u001b[43m(\u001b[49m\u001b[38;5;124;43m\"\u001b[39;49m\u001b[38;5;124;43m./va_prim_20_prec/README.txt\u001b[39;49m\u001b[38;5;124;43m\"\u001b[39;49m\u001b[43m,\u001b[49m\u001b[43m \u001b[49m\u001b[38;5;124;43m\"\u001b[39;49m\u001b[38;5;124;43mVirginia\u001b[39;49m\u001b[38;5;124;43m\"\u001b[39;49m\u001b[43m,\u001b[49m\u001b[43m \u001b[49m\u001b[38;5;124;43m\"\u001b[39;49m\u001b[38;5;124;43mprimary\u001b[39;49m\u001b[38;5;124;43m\"\u001b[39;49m\u001b[43m,\u001b[49m\u001b[43m \u001b[49m\u001b[43mfull_readme\u001b[49m\u001b[43m)\u001b[49m\n",
      "Cell \u001b[0;32mIn [3], line 114\u001b[0m, in \u001b[0;36mexport_readme\u001b[0;34m(readme_name, state, election_type, full_readme_text)\u001b[0m\n\u001b[1;32m    106\u001b[0m \u001b[38;5;28;01mdef\u001b[39;00m \u001b[38;5;21mexport_readme\u001b[39m(readme_name, state, election_type, full_readme_text):\n\u001b[1;32m    108\u001b[0m     \u001b[38;5;124;03m'''Purpose: Turn README string into a txt file in the ERJ folder\u001b[39;00m\n\u001b[1;32m    109\u001b[0m \u001b[38;5;124;03m    Argument note:\u001b[39;00m\n\u001b[1;32m    110\u001b[0m \u001b[38;5;124;03m        readme_name must include file path to readme within erj folder\u001b[39;00m\n\u001b[1;32m    111\u001b[0m \u001b[38;5;124;03m        ex: \u001b[39;00m\n\u001b[1;32m    112\u001b[0m \u001b[38;5;124;03m        readme_name = './az_gen_20_prec/README.txt'\u001b[39;00m\n\u001b[1;32m    113\u001b[0m \u001b[38;5;124;03m    '''\u001b[39;00m\n\u001b[0;32m--> 114\u001b[0m     \u001b[38;5;28;01mwith\u001b[39;00m \u001b[38;5;28;43mopen\u001b[39;49m\u001b[43m(\u001b[49m\u001b[43mreadme_name\u001b[49m\u001b[43m,\u001b[49m\u001b[43m \u001b[49m\u001b[38;5;124;43m'\u001b[39;49m\u001b[38;5;124;43mx\u001b[39;49m\u001b[38;5;124;43m'\u001b[39;49m\u001b[43m)\u001b[49m \u001b[38;5;28;01mas\u001b[39;00m tf:\n\u001b[1;32m    115\u001b[0m         tf\u001b[38;5;241m.\u001b[39mwrite(full_readme_text)\n\u001b[1;32m    116\u001b[0m     \u001b[38;5;28mprint\u001b[39m(state, election_type, \u001b[38;5;124m\"\u001b[39m\u001b[38;5;124m readme moved to folder\u001b[39m\u001b[38;5;124m\"\u001b[39m)\n",
      "\u001b[0;31mFileExistsError\u001b[0m: [Errno 17] File exists: './va_prim_20_prec/README.txt'"
     ]
    }
   ],
   "source": [
    "export_readme(\"./va_prim_20_prec/README.txt\", \"Virginia\", \"primary\", full_readme)"
   ]
  },
  {
   "cell_type": "code",
   "execution_count": null,
   "id": "7420b9ca",
   "metadata": {},
   "outputs": [],
   "source": []
  }
 ],
 "metadata": {
  "kernelspec": {
   "display_name": "Python 3 (ipykernel)",
   "language": "python",
   "name": "python3"
  },
  "language_info": {
   "codemirror_mode": {
    "name": "ipython",
    "version": 3
   },
   "file_extension": ".py",
   "mimetype": "text/x-python",
   "name": "python",
   "nbconvert_exporter": "python",
   "pygments_lexer": "ipython3",
   "version": "3.10.6"
  }
 },
 "nbformat": 4,
 "nbformat_minor": 5
}
